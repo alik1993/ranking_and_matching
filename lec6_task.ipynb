{
 "cells": [
  {
   "cell_type": "code",
   "execution_count": 286,
   "metadata": {
    "ExecuteTime": {
     "end_time": "2021-07-28T15:26:49.570762Z",
     "start_time": "2021-07-28T15:26:49.545879Z"
    }
   },
   "outputs": [],
   "source": [
    "from collections import OrderedDict, defaultdict\n",
    "from typing import Callable, Tuple, Dict, List\n",
    "\n",
    "import numpy as np\n",
    "from tqdm.auto import tqdm\n",
    "\n",
    "\n",
    "def distance(pointA: np.ndarray, documents: np.ndarray) -> np.ndarray:\n",
    "    return np.linalg.norm(pointA - documents, axis=1).reshape(-1,1)\n",
    "#     return np.linalg.norm(pointA - documents, axis=1, keepdims=True) # или так\n",
    "\n",
    "    # where the system will automatically compute the correct shape instead \"-1\"\n",
    "#     происходит автоматический broadcast (из матрицы 1*D вычитается матрица N*D)\n",
    "\n",
    "def create_sw_graph(\n",
    "        data: np.ndarray,\n",
    "        num_candidates_for_choice_long: int = 10,\n",
    "        num_edges_long: int = 5,\n",
    "        num_candidates_for_choice_short: int = 10,\n",
    "        num_edges_short: int = 5,\n",
    "        use_sampling: bool = False,\n",
    "        sampling_share: float = 0.05,\n",
    "        dist_f: Callable = distance\n",
    "    ) -> Dict[int, List[int]]:\n",
    "    \n",
    "    ind_dict = defaultdict(list)\n",
    "#     ind_dict[12].append(...) # можно обращаться к несуществующему ключу\n",
    "\n",
    "#     np.random.seed(1)\n",
    "    \n",
    "    for i, r in enumerate(data):\n",
    "        \n",
    "        if use_sampling:\n",
    "            choose_n = int(sampling_share * len(data))\n",
    "            random_ind = np.random.choice(np.arange(len(data)), choose_n, replace=False)\n",
    "            dist = dist_f(r, data[random_ind])\n",
    "        else:\n",
    "            dist = dist_f(r, data)\n",
    "            \n",
    "        cand_ind_sort_long = np.argsort(dist, axis=0)[::-1][:-1][:num_candidates_for_choice_long]\n",
    "        cand_ind_sort_long = cand_ind_sort_long.reshape(-1,)\n",
    "        top_ind_sort_long = np.random.choice(cand_ind_sort_long, num_edges_long, replace=False)\n",
    "        \n",
    "        cand_ind_sort_short = np.argsort(dist, axis=0)[1:][:num_candidates_for_choice_short]\n",
    "        cand_ind_sort_short = cand_ind_sort_short.reshape(-1,)\n",
    "        top_ind_sort_short = np.random.choice(cand_ind_sort_short, num_edges_short, replace=False)\n",
    "        \n",
    "        short_and_long_ind = np.concatenate((top_ind_sort_long, top_ind_sort_short))\n",
    "        \n",
    "        if use_sampling:\n",
    "            short_and_long_ind = data[random_ind][short_and_long_ind]\n",
    "            \n",
    "        ind_dict[i] = list(short_and_long_ind)\n",
    "        \n",
    "    return ind_dict\n",
    "\n",
    "# ideal\n",
    "def create_sw_graph(\n",
    "        data: np.ndarray,\n",
    "        num_candidates_for_choice_long: int = 10,\n",
    "        num_edges_long: int = 5,\n",
    "        num_candidates_for_choice_short: int = 10,\n",
    "        num_edges_short: int = 5,\n",
    "        use_sampling: bool = False,\n",
    "        sampling_share: float = 0.05,\n",
    "        dist_f: Callable = distance\n",
    "    ) -> Dict:\n",
    "    edges = defaultdict(list)\n",
    "    num_points = data.shape[0]\n",
    "\n",
    "    for cur_point_idx in tqdm(range(num_points)):\n",
    "        if not use_sampling:\n",
    "            all_dists = dist_f(data[cur_point_idx, :], data)\n",
    "            argsorted = np.argsort(all_dists.reshape(1, -1))[0][1:]\n",
    "        else:\n",
    "            sample_size = int(num_points * sampling_share)\n",
    "            choiced = np.random.choice(\n",
    "                list(range(num_points)), size=sample_size, replace=False)\n",
    "            part_dists = dist_f(data[cur_point_idx, :], data[choiced, :])\n",
    "            argsorted = choiced[np.argsort(part_dists.reshape(1, -1))[0][1:]]\n",
    "\n",
    "        short_cands = argsorted[:num_candidates_for_choice_short]\n",
    "        short_choice = np.random.choice(\n",
    "            short_cands, size=num_edges_short, replace=False)\n",
    "\n",
    "        long_cands = argsorted[-num_candidates_for_choice_long:]\n",
    "        long_choice = np.random.choice(\n",
    "            long_cands, size=num_edges_long, replace=False)\n",
    "\n",
    "        for i in np.concatenate([short_choice, long_choice]):\n",
    "            edges[cur_point_idx].append(i)\n",
    "\n",
    "    return dict(edges)   \n",
    "\n",
    "\n",
    "\n",
    "def nsw(query_point: np.ndarray, all_documents: np.ndarray, \n",
    "        graph_edges: Dict[int, List[int]],\n",
    "        search_k: int = 10, num_start_points: int = 5,\n",
    "        dist_f: Callable = distance) -> np.ndarray:\n",
    "        \n",
    "        node_connections = len(list(graph_edges.values())[0])\n",
    "        print(node_connections)\n",
    "        \n",
    "        if search_k>num_start_points*node_connections:\n",
    "            num_start_points = num_start_points+(search_k-num_start_points*node_connections)//node_connections+1\n",
    "                        \n",
    "#         np.random.seed(1)\n",
    "        \n",
    "        start_points_ind = np.random.choice(len(all_documents), num_start_points)\n",
    "        \n",
    "        top_k_ind_total = list()\n",
    "        \n",
    "        for curr_point_ind in start_points_ind:\n",
    "        \n",
    "            dist_curr_point = np.inf\n",
    "            min_dist_iter = -np.inf\n",
    "\n",
    "            while min_dist_iter < dist_curr_point:\n",
    "                \n",
    "                dist_curr_point = dist_f(query_point, all_documents[curr_point_ind])\n",
    "                dist_curr_point = np.float(dist_curr_point)\n",
    "                \n",
    "                top_k_ind_total.append([curr_point_ind])\n",
    "                \n",
    "                conn_points = graph_edges[curr_point_ind]\n",
    "                dist = dist_f(query_point, all_documents[conn_points])\n",
    "                min_dist_iter = np.min(dist)\n",
    "                min_dist_iter_ind = np.argmin(dist)\n",
    "                curr_point_ind = conn_points[min_dist_iter_ind]\n",
    "                \n",
    "                top_k_ind = np.argsort(dist, axis=0).reshape(-1,)[:search_k]\n",
    "                top_k_ind = [conn_points[i] for i in top_k_ind]\n",
    "                top_k_ind_total.append(top_k_ind)\n",
    "                \n",
    "#                 print(f'dist_curr_point {dist_curr_point}')\n",
    "#                 print(f'min_dist_iter {min_dist_iter}')\n",
    "#                 print('\\n')\n",
    "\n",
    "#             print('----next random----')\n",
    "        \n",
    "        top_k_ind_total = [i for sl in top_k_ind_total for i in sl]\n",
    "        top_k_ind_total = np.unique(top_k_ind_total)\n",
    "        \n",
    "        dist_ = dist_f(query_point, all_documents[top_k_ind_total])\n",
    "        \n",
    "        top_k_ind = np.argsort(dist_, axis=0).reshape(-1,)[:search_k]\n",
    "                        \n",
    "        final = [top_k_ind_total[i] for i in top_k_ind]\n",
    "        \n",
    "        return final\n",
    "\n",
    "    \n",
    "# ideal   \n",
    "def calc_d_and_upd(all_visited_points: OrderedDict, query_point: np.ndarray,\n",
    "                   all_documents: np.ndarray, point_idx: int, dist_f: Callable\n",
    "                   ) -> Tuple[float, bool]:\n",
    "    if point_idx in all_visited_points:\n",
    "        return all_visited_points[point_idx], True\n",
    "    cur_dist = dist_f(\n",
    "        query_point, all_documents[point_idx, :].reshape(1, -1))[0][0]\n",
    "    all_visited_points[point_idx] = cur_dist\n",
    "    return cur_dist, False\n",
    "\n",
    "\n",
    "def nsw(query_point: np.ndarray, all_documents: np.ndarray, graph_edges: Dict,\n",
    "        search_k: int = 10, num_start_points: int = 5,\n",
    "        dist_f: Callable = distance) -> np.ndarray:\n",
    "    all_visited_points = OrderedDict()\n",
    "    num_started_points = 0\n",
    "    # pbar = tqdm(total=num_start_points)\n",
    "    while ((num_started_points < num_start_points) or (len(all_visited_points) < search_k)):\n",
    "        # pbar.update(1)\n",
    "        cur_point_idx = np.random.randint(0, all_documents.shape[0]-1)\n",
    "        cur_dist, verdict = calc_d_and_upd(\n",
    "            all_visited_points, query_point, all_documents, cur_point_idx, dist_f)\n",
    "        if verdict:\n",
    "            continue\n",
    "\n",
    "        while True:\n",
    "            min_dist = cur_dist\n",
    "            choiced_cand = cur_point_idx\n",
    "\n",
    "            cands_idxs = graph_edges[cur_point_idx]\n",
    "            true_verdict_cands = set([cur_point_idx])\n",
    "            for cand_idx in cands_idxs:\n",
    "                tmp_d, verdict = calc_d_and_upd(\n",
    "                    all_visited_points, query_point, all_documents, cand_idx, dist_f)\n",
    "                if tmp_d < min_dist:\n",
    "                    min_dist = tmp_d\n",
    "                    choiced_cand = cand_idx\n",
    "                if verdict:\n",
    "                    true_verdict_cands.add(cand_idx)\n",
    "            else:\n",
    "                if choiced_cand in true_verdict_cands:\n",
    "                    break\n",
    "                cur_dist = min_dist\n",
    "                cur_point_idx = choiced_cand\n",
    "                continue\n",
    "            break\n",
    "        num_started_points += 1\n",
    "\n",
    "    best_idxs = np.argsort(list(all_visited_points.values()))[:search_k]\n",
    "    final_idx = np.array(list(all_visited_points.keys()))[best_idxs]\n",
    "    return final_idx"
   ]
  },
  {
   "cell_type": "code",
   "execution_count": 287,
   "metadata": {
    "ExecuteTime": {
     "end_time": "2021-07-28T15:26:49.710186Z",
     "start_time": "2021-07-28T15:26:49.705689Z"
    }
   },
   "outputs": [],
   "source": [
    "# point = np.random.rand(1,128)\n",
    "# all_documents = np.random.rand(50,128)"
   ]
  },
  {
   "cell_type": "code",
   "execution_count": 288,
   "metadata": {
    "ExecuteTime": {
     "end_time": "2021-07-28T15:26:50.237668Z",
     "start_time": "2021-07-28T15:26:50.228204Z"
    }
   },
   "outputs": [],
   "source": [
    "ind_dict = create_sw_graph(data=all_documents, dist_f=distance)\n",
    "graph_edges = ind_dict"
   ]
  },
  {
   "cell_type": "code",
   "execution_count": 289,
   "metadata": {
    "ExecuteTime": {
     "end_time": "2021-07-28T15:26:50.601249Z",
     "start_time": "2021-07-28T15:26:50.591683Z"
    },
    "scrolled": true
   },
   "outputs": [
    {
     "name": "stdout",
     "output_type": "stream",
     "text": [
      "10\n"
     ]
    },
    {
     "data": {
      "text/plain": [
       "[41,\n",
       " 1,\n",
       " 19,\n",
       " 11,\n",
       " 33,\n",
       " 36,\n",
       " 0,\n",
       " 4,\n",
       " 37,\n",
       " 9,\n",
       " 8,\n",
       " 38,\n",
       " 32,\n",
       " 13,\n",
       " 39,\n",
       " 21,\n",
       " 2,\n",
       " 42,\n",
       " 22,\n",
       " 3,\n",
       " 40,\n",
       " 28,\n",
       " 5,\n",
       " 30,\n",
       " 48,\n",
       " 26,\n",
       " 15,\n",
       " 6,\n",
       " 45,\n",
       " 27,\n",
       " 7,\n",
       " 17,\n",
       " 14,\n",
       " 12,\n",
       " 43,\n",
       " 31,\n",
       " 34,\n",
       " 10,\n",
       " 24,\n",
       " 49,\n",
       " 46,\n",
       " 25,\n",
       " 20,\n",
       " 16,\n",
       " 23,\n",
       " 29,\n",
       " 44]"
      ]
     },
     "execution_count": 289,
     "metadata": {},
     "output_type": "execute_result"
    }
   ],
   "source": [
    "out = nsw(point, all_documents, graph_edges, dist_f=distance, search_k=100, num_start_points=1)\n",
    "out"
   ]
  },
  {
   "cell_type": "code",
   "execution_count": 285,
   "metadata": {
    "ExecuteTime": {
     "end_time": "2021-07-28T15:26:43.063956Z",
     "start_time": "2021-07-28T15:26:43.054444Z"
    }
   },
   "outputs": [
    {
     "data": {
      "text/plain": [
       "50"
      ]
     },
     "execution_count": 285,
     "metadata": {},
     "output_type": "execute_result"
    }
   ],
   "source": [
    "len(out)"
   ]
  },
  {
   "cell_type": "code",
   "execution_count": null,
   "metadata": {},
   "outputs": [],
   "source": []
  },
  {
   "cell_type": "code",
   "execution_count": null,
   "metadata": {},
   "outputs": [],
   "source": []
  },
  {
   "cell_type": "code",
   "execution_count": null,
   "metadata": {},
   "outputs": [],
   "source": []
  },
  {
   "cell_type": "code",
   "execution_count": 778,
   "metadata": {
    "ExecuteTime": {
     "end_time": "2021-07-28T14:31:52.557788Z",
     "start_time": "2021-07-28T14:31:52.542739Z"
    }
   },
   "outputs": [],
   "source": [
    "ind_dict = create_sw_graph(data=data, dist_f=distance)"
   ]
  },
  {
   "cell_type": "code",
   "execution_count": 773,
   "metadata": {
    "ExecuteTime": {
     "end_time": "2021-07-28T14:31:45.914637Z",
     "start_time": "2021-07-28T14:31:45.905051Z"
    }
   },
   "outputs": [
    {
     "name": "stdout",
     "output_type": "stream",
     "text": [
      "23\n",
      "36\n",
      "27\n",
      "6\n",
      "37\n"
     ]
    }
   ],
   "source": [
    "start_points_ind = np.random.choice(len(data), 5)\n",
    "for sp in start_points_ind:\n",
    "    print(sp)"
   ]
  },
  {
   "cell_type": "code",
   "execution_count": 547,
   "metadata": {
    "ExecuteTime": {
     "end_time": "2021-07-28T11:20:14.374807Z",
     "start_time": "2021-07-28T11:20:14.365456Z"
    }
   },
   "outputs": [
    {
     "data": {
      "text/plain": [
       "5"
      ]
     },
     "execution_count": 547,
     "metadata": {},
     "output_type": "execute_result"
    }
   ],
   "source": [
    "len(start_points_ind)"
   ]
  },
  {
   "cell_type": "code",
   "execution_count": 512,
   "metadata": {
    "ExecuteTime": {
     "end_time": "2021-07-28T10:50:23.994841Z",
     "start_time": "2021-07-28T10:50:23.983736Z"
    }
   },
   "outputs": [
    {
     "data": {
      "text/plain": [
       "array([[26],\n",
       "       [45],\n",
       "       [ 7],\n",
       "       [40],\n",
       "       [36],\n",
       "       [ 3],\n",
       "       [27],\n",
       "       [20],\n",
       "       [ 4],\n",
       "       [15],\n",
       "       [43],\n",
       "       [39],\n",
       "       [29],\n",
       "       [34],\n",
       "       [ 5],\n",
       "       [24],\n",
       "       [42],\n",
       "       [47],\n",
       "       [23],\n",
       "       [ 8],\n",
       "       [ 6],\n",
       "       [38],\n",
       "       [28],\n",
       "       [35],\n",
       "       [32],\n",
       "       [31],\n",
       "       [ 9],\n",
       "       [19],\n",
       "       [10],\n",
       "       [41],\n",
       "       [17],\n",
       "       [11],\n",
       "       [18],\n",
       "       [22],\n",
       "       [12],\n",
       "       [ 1],\n",
       "       [37],\n",
       "       [13],\n",
       "       [16],\n",
       "       [30],\n",
       "       [25],\n",
       "       [ 2],\n",
       "       [21],\n",
       "       [44],\n",
       "       [48],\n",
       "       [49],\n",
       "       [33],\n",
       "       [46],\n",
       "       [14]])"
      ]
     },
     "execution_count": 512,
     "metadata": {},
     "output_type": "execute_result"
    }
   ],
   "source": [
    "np.argsort(dist, axis=0)[1:]"
   ]
  },
  {
   "cell_type": "code",
   "execution_count": null,
   "metadata": {},
   "outputs": [],
   "source": []
  }
 ],
 "metadata": {
  "hide_input": false,
  "kernelspec": {
   "display_name": "Python 3",
   "language": "python",
   "name": "python3"
  },
  "language_info": {
   "codemirror_mode": {
    "name": "ipython",
    "version": 3
   },
   "file_extension": ".py",
   "mimetype": "text/x-python",
   "name": "python",
   "nbconvert_exporter": "python",
   "pygments_lexer": "ipython3",
   "version": "3.6.9"
  },
  "toc": {
   "base_numbering": 1,
   "nav_menu": {},
   "number_sections": true,
   "sideBar": true,
   "skip_h1_title": false,
   "title_cell": "Table of Contents",
   "title_sidebar": "Contents",
   "toc_cell": false,
   "toc_position": {},
   "toc_section_display": true,
   "toc_window_display": false
  }
 },
 "nbformat": 4,
 "nbformat_minor": 4
}
