{
 "cells": [
  {
   "cell_type": "code",
   "execution_count": 3,
   "metadata": {
    "ExecuteTime": {
     "end_time": "2021-07-06T11:17:27.403266Z",
     "start_time": "2021-07-06T11:17:27.397863Z"
    }
   },
   "outputs": [],
   "source": [
    "from math import log2\n",
    "\n",
    "from torch import Tensor, sort"
   ]
  },
  {
   "cell_type": "code",
   "execution_count": 47,
   "metadata": {
    "ExecuteTime": {
     "end_time": "2021-07-06T11:47:55.501909Z",
     "start_time": "2021-07-06T11:47:55.496053Z"
    }
   },
   "outputs": [],
   "source": [
    "ys_true = torch.rand(5)\n",
    "ys_pred = torch.rand(5)"
   ]
  },
  {
   "cell_type": "code",
   "execution_count": 221,
   "metadata": {
    "ExecuteTime": {
     "end_time": "2021-07-06T21:47:15.616014Z",
     "start_time": "2021-07-06T21:47:15.609781Z"
    }
   },
   "outputs": [
    {
     "data": {
      "text/plain": [
       "tensor([0.2048, 0.3451, 0.2961, 0.4787, 0.8041])"
      ]
     },
     "execution_count": 221,
     "metadata": {},
     "output_type": "execute_result"
    }
   ],
   "source": [
    "ys_true"
   ]
  },
  {
   "cell_type": "code",
   "execution_count": 226,
   "metadata": {
    "ExecuteTime": {
     "end_time": "2021-07-06T21:50:31.540603Z",
     "start_time": "2021-07-06T21:50:31.533089Z"
    }
   },
   "outputs": [
    {
     "data": {
      "text/plain": [
       "tensor([0.2048, 0.3451, 0.3451, 0.2961, 0.4787, 0.8041])"
      ]
     },
     "execution_count": 226,
     "metadata": {},
     "output_type": "execute_result"
    }
   ],
   "source": [
    "Tensor([0.2048, 0.3451, 0.3451, 0.2961, 0.4787, 0.8041])"
   ]
  },
  {
   "cell_type": "code",
   "execution_count": 102,
   "metadata": {
    "ExecuteTime": {
     "end_time": "2021-07-06T19:44:41.068277Z",
     "start_time": "2021-07-06T19:44:41.062195Z"
    }
   },
   "outputs": [
    {
     "data": {
      "text/plain": [
       "torch.return_types.sort(\n",
       "values=tensor([0.8013, 0.5256, 0.3503, 0.0218, 0.0117]),\n",
       "indices=tensor([2, 3, 1, 0, 4]))"
      ]
     },
     "execution_count": 102,
     "metadata": {},
     "output_type": "execute_result"
    }
   ],
   "source": [
    "sort(ys_pred, descending=True)"
   ]
  },
  {
   "cell_type": "code",
   "execution_count": 112,
   "metadata": {
    "ExecuteTime": {
     "end_time": "2021-07-06T19:52:09.151166Z",
     "start_time": "2021-07-06T19:52:09.144400Z"
    }
   },
   "outputs": [],
   "source": [
    "def num_swapped_pairs(ys_true: Tensor, ys_pred: Tensor) -> int:\n",
    "    \n",
    "    ys_true_sort, sort_indices = sort(ys_true, descending=True)\n",
    "    ys_pred_sort = ys_pred[sort_indices]\n",
    "\n",
    "    print(ys_pred_sort)\n",
    "    cnt = 0\n",
    "    for i_ix, i in enumerate(ys_pred_sort):\n",
    "        for y_ix, y in enumerate(ys_pred_sort):\n",
    "            if (y_ix>i_ix) and (y>i):\n",
    "                cnt+=1\n",
    "                print(i, y)\n",
    "                print(i_ix, y_ix)\n",
    "    return cnt"
   ]
  },
  {
   "cell_type": "code",
   "execution_count": 114,
   "metadata": {
    "ExecuteTime": {
     "end_time": "2021-07-06T19:52:56.020465Z",
     "start_time": "2021-07-06T19:52:56.017165Z"
    }
   },
   "outputs": [],
   "source": [
    "# num_swapped_pairs(ys_true, ys_pred)"
   ]
  },
  {
   "cell_type": "code",
   "execution_count": 169,
   "metadata": {
    "ExecuteTime": {
     "end_time": "2021-07-06T20:37:46.222670Z",
     "start_time": "2021-07-06T20:37:46.217783Z"
    }
   },
   "outputs": [],
   "source": [
    "def compute_gain(y_value: float, gain_scheme: str) -> float:\n",
    "    if gain_scheme==\"const\":\n",
    "        return y_value\n",
    "    elif gain_scheme==\"exp2\":\n",
    "        return 2**y_value - 1\n",
    "#         return pow(2,y_value) - 1\n",
    "    else:\n",
    "        return None"
   ]
  },
  {
   "cell_type": "code",
   "execution_count": 142,
   "metadata": {
    "ExecuteTime": {
     "end_time": "2021-07-06T20:23:25.319108Z",
     "start_time": "2021-07-06T20:23:25.313427Z"
    }
   },
   "outputs": [
    {
     "data": {
      "text/plain": [
       "-0.6371652279637434"
      ]
     },
     "execution_count": 142,
     "metadata": {},
     "output_type": "execute_result"
    }
   ],
   "source": [
    "0.71324123412**3 - 1"
   ]
  },
  {
   "cell_type": "code",
   "execution_count": 191,
   "metadata": {
    "ExecuteTime": {
     "end_time": "2021-07-06T20:43:45.156216Z",
     "start_time": "2021-07-06T20:43:45.150373Z"
    }
   },
   "outputs": [
    {
     "data": {
      "text/plain": [
       "-0.6371648706641574"
      ]
     },
     "execution_count": 191,
     "metadata": {},
     "output_type": "execute_result"
    }
   ],
   "source": [
    "pow(0.71324123412,3) - 1"
   ]
  },
  {
   "cell_type": "code",
   "execution_count": 185,
   "metadata": {
    "ExecuteTime": {
     "end_time": "2021-07-06T20:40:17.894272Z",
     "start_time": "2021-07-06T20:40:17.888369Z"
    }
   },
   "outputs": [],
   "source": [
    "def dcg(ys_true: Tensor, ys_pred: Tensor, gain_scheme: str) -> float:\n",
    "    ys_pred_sort, sort_indices = sort(ys_pred, descending=True)\n",
    "    ys_true_sort = ys_true[sort_indices] \n",
    "#     print(ys_true_sort)\n",
    "    dcg_ = 0\n",
    "    for ix, e in enumerate(ys_true_sort):\n",
    "        dcg_ += compute_gain(e, gain_scheme)/log2(ix+2)\n",
    "        \n",
    "    return float(dcg_)"
   ]
  },
  {
   "cell_type": "code",
   "execution_count": 186,
   "metadata": {
    "ExecuteTime": {
     "end_time": "2021-07-06T20:40:18.701138Z",
     "start_time": "2021-07-06T20:40:18.694502Z"
    }
   },
   "outputs": [
    {
     "data": {
      "text/plain": [
       "1.1699225902557373"
      ]
     },
     "execution_count": 186,
     "metadata": {},
     "output_type": "execute_result"
    }
   ],
   "source": [
    "dcg(ys_true, ys_pred, gain_scheme='const')"
   ]
  },
  {
   "cell_type": "code",
   "execution_count": 189,
   "metadata": {
    "ExecuteTime": {
     "end_time": "2021-07-06T20:40:48.853864Z",
     "start_time": "2021-07-06T20:40:48.847630Z"
    }
   },
   "outputs": [],
   "source": [
    "def ndcg(ys_true: Tensor, ys_pred: Tensor, gain_scheme: str = 'const') -> float:\n",
    "    ys_ideal_true_sort, _ = sort(ys_true, descending=True)\n",
    "    \n",
    "    ideal_dcg = 0\n",
    "    for ix, e in enumerate(ys_ideal_true_sort):\n",
    "        ideal_dcg += compute_gain(e, gain_scheme)/log2(ix+2)\n",
    "    \n",
    "    ideal_dcg = float(ideal_dcg)\n",
    "    \n",
    "    dcg_ = dcg(ys_true, ys_pred, gain_scheme)\n",
    "    \n",
    "    return dcg_/ideal_dcg"
   ]
  },
  {
   "cell_type": "code",
   "execution_count": 192,
   "metadata": {
    "ExecuteTime": {
     "end_time": "2021-07-06T20:44:02.120368Z",
     "start_time": "2021-07-06T20:44:02.113895Z"
    }
   },
   "outputs": [
    {
     "data": {
      "text/plain": [
       "0.7876030245686009"
      ]
     },
     "execution_count": 192,
     "metadata": {},
     "output_type": "execute_result"
    }
   ],
   "source": [
    "ndcg(ys_true, ys_pred, gain_scheme='const')"
   ]
  },
  {
   "cell_type": "code",
   "execution_count": 199,
   "metadata": {
    "ExecuteTime": {
     "end_time": "2021-07-06T20:55:33.912109Z",
     "start_time": "2021-07-06T20:55:33.905824Z"
    }
   },
   "outputs": [],
   "source": [
    "def precission_at_k(ys_true: Tensor, ys_pred: Tensor, k: int) -> float:\n",
    "    \n",
    "    ys_pred_sort, sort_indices = sort(ys_pred, descending=True)\n",
    "    ys_true_sort = ys_true[sort_indices]\n",
    "    ys_true_sort_topk = ys_true_sort[:k]\n",
    "    \n",
    "    ones_cnt = len([v for v in ys_true_sort_topk if v==1])\n",
    "    if ones_cnt>0:\n",
    "        return ones_cnt/len(ys_true_sort_topk)\n",
    "    else:\n",
    "        return -1"
   ]
  },
  {
   "cell_type": "code",
   "execution_count": 234,
   "metadata": {
    "ExecuteTime": {
     "end_time": "2021-07-06T21:55:23.002263Z",
     "start_time": "2021-07-06T21:55:22.995087Z"
    }
   },
   "outputs": [
    {
     "data": {
      "text/plain": [
       "3"
      ]
     },
     "execution_count": 234,
     "metadata": {},
     "output_type": "execute_result"
    }
   ],
   "source": [
    "int((Tensor([0,0,0,1])==1).nonzero(as_tuple=False)[0])"
   ]
  },
  {
   "cell_type": "code",
   "execution_count": null,
   "metadata": {},
   "outputs": [],
   "source": []
  },
  {
   "cell_type": "code",
   "execution_count": 11,
   "metadata": {
    "ExecuteTime": {
     "end_time": "2021-07-12T16:16:58.318089Z",
     "start_time": "2021-07-12T16:16:58.311719Z"
    }
   },
   "outputs": [
    {
     "name": "stdout",
     "output_type": "stream",
     "text": [
      "6 13\n"
     ]
    }
   ],
   "source": [
    "for i in range(1,15):\n",
    "    for j in range(1,15):\n",
    "        if abs(i/j-0.46153846153846156)<0.00001:\n",
    "            print(i,j)"
   ]
  },
  {
   "cell_type": "code",
   "execution_count": null,
   "metadata": {},
   "outputs": [],
   "source": []
  },
  {
   "cell_type": "code",
   "execution_count": 302,
   "metadata": {
    "ExecuteTime": {
     "end_time": "2021-07-07T05:46:33.582895Z",
     "start_time": "2021-07-07T05:46:33.574375Z"
    }
   },
   "outputs": [],
   "source": []
  },
  {
   "cell_type": "code",
   "execution_count": 334,
   "metadata": {
    "ExecuteTime": {
     "end_time": "2021-07-07T06:18:53.550254Z",
     "start_time": "2021-07-07T06:18:53.541514Z"
    }
   },
   "outputs": [],
   "source": [
    "def num_swapped_pairs(ys_true: Tensor, ys_pred: Tensor) -> int:\n",
    "    \n",
    "    ys_true_sort, sort_indices = sort(ys_true, descending=True)\n",
    "    ys_pred_sort = ys_pred[sort_indices]\n",
    "    ys_pred_sort = Tensor([0.8013, 0.1256, 0.1256, 0.3503, 0.0218, 0.0117, 0.3503])\n",
    "    cnt = 0\n",
    "    cnt_xy_list = []\n",
    "    for x_ix, x in enumerate(ys_pred_sort):\n",
    "        for y_ix, y in enumerate(ys_pred_sort):\n",
    "            if bool(y_ix>x_ix) & bool(y>x) & ((x,y) not in cnt_xy_list):\n",
    "                cnt_xy_list.append((x,y))\n",
    "                print(x,y)\n",
    "                cnt+=1\n",
    "    return cnt"
   ]
  },
  {
   "cell_type": "code",
   "execution_count": 335,
   "metadata": {
    "ExecuteTime": {
     "end_time": "2021-07-07T06:18:53.771691Z",
     "start_time": "2021-07-07T06:18:53.759131Z"
    }
   },
   "outputs": [
    {
     "name": "stdout",
     "output_type": "stream",
     "text": [
      "tensor(0.1256) tensor(0.3503)\n",
      "tensor(0.0218) tensor(0.3503)\n",
      "tensor(0.0117) tensor(0.3503)\n"
     ]
    },
    {
     "data": {
      "text/plain": [
       "3"
      ]
     },
     "execution_count": 335,
     "metadata": {},
     "output_type": "execute_result"
    }
   ],
   "source": [
    "num_swapped_pairs(ys_true, ys_pred)"
   ]
  },
  {
   "cell_type": "code",
   "execution_count": 308,
   "metadata": {
    "ExecuteTime": {
     "end_time": "2021-07-07T05:53:44.164464Z",
     "start_time": "2021-07-07T05:53:44.158600Z"
    }
   },
   "outputs": [
    {
     "data": {
      "text/plain": [
       "[0, 1, 2, 3, 4]"
      ]
     },
     "execution_count": 308,
     "metadata": {},
     "output_type": "execute_result"
    }
   ],
   "source": [
    "l = [0,1,2,3,4]\n",
    "l[:len(l)]"
   ]
  },
  {
   "cell_type": "code",
   "execution_count": 303,
   "metadata": {
    "ExecuteTime": {
     "end_time": "2021-07-07T05:46:36.504376Z",
     "start_time": "2021-07-07T05:46:36.489145Z"
    }
   },
   "outputs": [
    {
     "name": "stdout",
     "output_type": "stream",
     "text": [
      "[(tensor(0.0117), tensor(0.5256)), (tensor(0.0117), tensor(0.3503)), (tensor(0.0117), tensor(0.8013)), (tensor(0.0117), tensor(0.0218)), (tensor(0.5256), tensor(0.8013)), (tensor(0.3503), tensor(0.5256)), (tensor(0.3503), tensor(0.8013))]\n"
     ]
    },
    {
     "data": {
      "text/plain": [
       "7"
      ]
     },
     "execution_count": 303,
     "metadata": {},
     "output_type": "execute_result"
    }
   ],
   "source": [
    "num_swapped_pairs(ys_true, ys_pred)"
   ]
  },
  {
   "cell_type": "code",
   "execution_count": 248,
   "metadata": {
    "ExecuteTime": {
     "end_time": "2021-07-06T22:29:38.393509Z",
     "start_time": "2021-07-06T22:29:38.388209Z"
    }
   },
   "outputs": [
    {
     "data": {
      "text/plain": [
       "0.1"
      ]
     },
     "execution_count": 248,
     "metadata": {},
     "output_type": "execute_result"
    }
   ],
   "source": [
    "round(0.05555555555555555, 1)"
   ]
  },
  {
   "cell_type": "code",
   "execution_count": 280,
   "metadata": {
    "ExecuteTime": {
     "end_time": "2021-07-06T22:55:19.974580Z",
     "start_time": "2021-07-06T22:55:19.965141Z"
    }
   },
   "outputs": [
    {
     "data": {
      "text/plain": [
       "tensor([0., 0.])"
      ]
     },
     "execution_count": 280,
     "metadata": {},
     "output_type": "execute_result"
    }
   ],
   "source": [
    "Tensor([0,0,1,0,1,0,1])[:2]"
   ]
  },
  {
   "cell_type": "code",
   "execution_count": 279,
   "metadata": {
    "ExecuteTime": {
     "end_time": "2021-07-06T22:52:38.067920Z",
     "start_time": "2021-07-06T22:52:38.060974Z"
    }
   },
   "outputs": [
    {
     "data": {
      "text/plain": [
       "3"
      ]
     },
     "execution_count": 279,
     "metadata": {},
     "output_type": "execute_result"
    }
   ],
   "source": [
    "len([v for v in Tensor([0,0,1,0,1,0,1]) if v==1])"
   ]
  },
  {
   "cell_type": "code",
   "execution_count": 201,
   "metadata": {
    "ExecuteTime": {
     "end_time": "2021-07-06T20:59:12.057972Z",
     "start_time": "2021-07-06T20:59:12.052992Z"
    }
   },
   "outputs": [],
   "source": [
    "def reciprocal_rank(ys_true: Tensor, ys_pred: Tensor) -> float:\n",
    "    ys_pred_sort, sort_indices = sort(ys_pred, descending=True)\n",
    "    ys_true_sort = ys_true[sort_indices]\n",
    "    one_idx = int((ys_true_sort==1).nonzero(as_tuple=False)[0])\n",
    "    return 1/one_idx"
   ]
  },
  {
   "cell_type": "code",
   "execution_count": 203,
   "metadata": {
    "ExecuteTime": {
     "end_time": "2021-07-06T21:08:58.129287Z",
     "start_time": "2021-07-06T21:08:58.122326Z"
    }
   },
   "outputs": [],
   "source": [
    "def p_found(ys_true: Tensor, ys_pred: Tensor, p_break: float = 0.15 ) -> float:\n",
    "    ys_pred_sort, sort_indices = sort(ys_pred, descending=True)\n",
    "    ys_true_sort = ys_true[sort_indices]\n",
    "    \n",
    "    pfound_total = 0\n",
    "    \n",
    "    for ix, el in enumerate(ys_true_sort):\n",
    "        if ix==0:\n",
    "            p_look = 1\n",
    "            p_f = p_look * ys_true_sort[ix]\n",
    "        else: \n",
    "            p_look = p_look*(1-ys_true_sort[ix-1])*(1-p_break)\n",
    "            p_f = p_look * ys_true_sort[ix]\n",
    "        \n",
    "        pfound_total += p_f\n",
    "        \n",
    "    return pfound_total"
   ]
  },
  {
   "cell_type": "code",
   "execution_count": 205,
   "metadata": {
    "ExecuteTime": {
     "end_time": "2021-07-06T21:18:45.231490Z",
     "start_time": "2021-07-06T21:18:45.223817Z"
    }
   },
   "outputs": [],
   "source": [
    "def average_precision(ys_true: Tensor, ys_pred: Tensor) -> float:\n",
    "    \n",
    "    ys_pred_sort, sort_indices = sort(ys_pred, descending=True)\n",
    "    ys_true_sort = ys_true[sort_indices]\n",
    "    \n",
    "    ones_cnt = len([v for v in ys_true_sort if v==1])\n",
    "    \n",
    "    if ones_cnt>0:\n",
    "        ap = 0\n",
    "        for ix, el in enumerate(ys_true_sort):\n",
    "            if el==1:\n",
    "                ys_true_sort_filt = ys_true_sort[:ix]\n",
    "                rec = len([v for v in ys_true_sort_filt if v==1])/len(ys_true_sort_filt)\n",
    "                ap += rec\n",
    "        return ap/ones_cnt\n",
    "    else:\n",
    "        return -1\n"
   ]
  },
  {
   "cell_type": "code",
   "execution_count": 218,
   "metadata": {
    "ExecuteTime": {
     "end_time": "2021-07-06T21:30:17.755995Z",
     "start_time": "2021-07-06T21:30:17.749307Z"
    }
   },
   "outputs": [
    {
     "data": {
      "text/plain": [
       "[1, 2, 3]"
      ]
     },
     "execution_count": 218,
     "metadata": {},
     "output_type": "execute_result"
    }
   ],
   "source": [
    "[1,2,3][:3]"
   ]
  }
 ],
 "metadata": {
  "hide_input": false,
  "kernelspec": {
   "display_name": "Python 3",
   "language": "python",
   "name": "python3"
  },
  "language_info": {
   "codemirror_mode": {
    "name": "ipython",
    "version": 3
   },
   "file_extension": ".py",
   "mimetype": "text/x-python",
   "name": "python",
   "nbconvert_exporter": "python",
   "pygments_lexer": "ipython3",
   "version": "3.6.9"
  },
  "toc": {
   "base_numbering": 1,
   "nav_menu": {},
   "number_sections": true,
   "sideBar": true,
   "skip_h1_title": false,
   "title_cell": "Table of Contents",
   "title_sidebar": "Contents",
   "toc_cell": false,
   "toc_position": {},
   "toc_section_display": true,
   "toc_window_display": false
  }
 },
 "nbformat": 4,
 "nbformat_minor": 4
}
