{
 "cells": [
  {
   "cell_type": "markdown",
   "metadata": {},
   "source": [
    "# RankNet"
   ]
  },
  {
   "cell_type": "code",
   "execution_count": 1,
   "metadata": {
    "ExecuteTime": {
     "end_time": "2021-07-08T10:41:36.873571Z",
     "start_time": "2021-07-08T10:41:35.938082Z"
    }
   },
   "outputs": [],
   "source": [
    "import torch"
   ]
  },
  {
   "cell_type": "code",
   "execution_count": 2,
   "metadata": {
    "ExecuteTime": {
     "end_time": "2021-07-08T10:41:36.894885Z",
     "start_time": "2021-07-08T10:41:36.877686Z"
    }
   },
   "outputs": [
    {
     "data": {
      "text/latex": [
       "$$C_{ij}=C(o_{ij})=-\\bar{P_{ij}}log(P_{ij})-(1-\\bar{P_{ij}})log(1-P_{ij})$$\n"
      ],
      "text/plain": [
       "<IPython.core.display.Latex object>"
      ]
     },
     "metadata": {},
     "output_type": "display_data"
    }
   ],
   "source": [
    "%%latex\n",
    "$$C_{ij}=C(o_{ij})=-\\bar{P_{ij}}log(P_{ij})-(1-\\bar{P_{ij}})log(1-P_{ij})$$"
   ]
  },
  {
   "cell_type": "code",
   "execution_count": 3,
   "metadata": {
    "ExecuteTime": {
     "end_time": "2021-07-08T10:41:36.907909Z",
     "start_time": "2021-07-08T10:41:36.898781Z"
    }
   },
   "outputs": [
    {
     "data": {
      "text/latex": [
       "$$o_{ij}=f(x_i)-f(x_j)$$\n"
      ],
      "text/plain": [
       "<IPython.core.display.Latex object>"
      ]
     },
     "metadata": {},
     "output_type": "display_data"
    }
   ],
   "source": [
    "%%latex\n",
    "$$o_{ij}=f(x_i)-f(x_j)$$"
   ]
  },
  {
   "cell_type": "code",
   "execution_count": 4,
   "metadata": {
    "ExecuteTime": {
     "end_time": "2021-07-08T10:41:36.921884Z",
     "start_time": "2021-07-08T10:41:36.911356Z"
    }
   },
   "outputs": [
    {
     "data": {
      "text/latex": [
       "$$P_{ij}=\\frac{e^{o_{ij}}}{1+e^{o_{ij}}}$$\n"
      ],
      "text/plain": [
       "<IPython.core.display.Latex object>"
      ]
     },
     "metadata": {},
     "output_type": "display_data"
    }
   ],
   "source": [
    "%%latex\n",
    "$$P_{ij}=\\frac{e^{o_{ij}}}{1+e^{o_{ij}}}$$"
   ]
  },
  {
   "cell_type": "code",
   "execution_count": 5,
   "metadata": {
    "ExecuteTime": {
     "end_time": "2021-07-08T10:41:36.933638Z",
     "start_time": "2021-07-08T10:41:36.925209Z"
    }
   },
   "outputs": [],
   "source": [
    "# torch.sigmoid()"
   ]
  },
  {
   "cell_type": "code",
   "execution_count": 6,
   "metadata": {
    "ExecuteTime": {
     "end_time": "2021-07-08T10:41:36.949241Z",
     "start_time": "2021-07-08T10:41:36.937178Z"
    }
   },
   "outputs": [
    {
     "data": {
      "text/latex": [
       "$$\\text{out}_{i} = \\frac{1}{1 + e^{-\\text{input}_{i}}}$$\n"
      ],
      "text/plain": [
       "<IPython.core.display.Latex object>"
      ]
     },
     "metadata": {},
     "output_type": "display_data"
    }
   ],
   "source": [
    "%%latex\n",
    "$$\\text{out}_{i} = \\frac{1}{1 + e^{-\\text{input}_{i}}}$$"
   ]
  },
  {
   "cell_type": "code",
   "execution_count": 7,
   "metadata": {
    "ExecuteTime": {
     "end_time": "2021-07-08T10:41:36.963604Z",
     "start_time": "2021-07-08T10:41:36.953081Z"
    }
   },
   "outputs": [],
   "source": [
    "class RankNet(torch.nn.Module):\n",
    "    def __init__(self, num_input_features, hidden_dim=10):\n",
    "        super().__init__()\n",
    "        self.hidden_dim = hidden_dim\n",
    "        self.model = torch.nn.Sequential(\n",
    "            torch.nn.Linear(num_input_features, self.hidden_dim), # переводит входное пространство в скрытый слой\n",
    "            torch.nn.ReLU(), # добавляем нелинейность\n",
    "            torch.nn.Linear(self.hidden_dim, 1), # приводим к скаляру\n",
    "        )\n",
    "        \n",
    "        self.out_activation = torch.nn.Sigmoid()\n",
    "\n",
    "    def forward(self, input_1, input_2):\n",
    "        logits_1 = self.predict(input_1)\n",
    "        logits_2 = self.predict(input_2)\n",
    "        \n",
    "        logits_diff = logits_1 - logits_2\n",
    "        out = self.out_activation(logits_diff)\n",
    "\n",
    "        return out\n",
    "    \n",
    "    def predict(self, inp):\n",
    "        logits = self.model(inp)\n",
    "        return logits"
   ]
  },
  {
   "cell_type": "code",
   "execution_count": 8,
   "metadata": {
    "ExecuteTime": {
     "end_time": "2021-07-08T10:41:37.120271Z",
     "start_time": "2021-07-08T10:41:37.114295Z"
    }
   },
   "outputs": [],
   "source": [
    "ranknet_model = RankNet(num_input_features=10)"
   ]
  },
  {
   "cell_type": "code",
   "execution_count": 9,
   "metadata": {
    "ExecuteTime": {
     "end_time": "2021-07-08T10:41:37.477109Z",
     "start_time": "2021-07-08T10:41:37.466516Z"
    }
   },
   "outputs": [
    {
     "data": {
      "text/plain": [
       "tensor([[0.8081, 0.6449, 0.9244, 0.7282, 0.9149, 0.9803, 0.3511, 0.9423, 0.3800,\n",
       "         0.4350],\n",
       "        [0.1026, 0.6526, 0.8542, 0.8848, 0.3349, 0.2752, 0.2069, 0.9747, 0.9119,\n",
       "         0.8857],\n",
       "        [0.4068, 0.6438, 0.6348, 0.3660, 0.2397, 0.8409, 0.7032, 0.0230, 0.3923,\n",
       "         0.6201],\n",
       "        [0.8944, 0.6438, 0.0946, 0.9344, 0.3438, 0.7913, 0.8423, 0.0804, 0.1115,\n",
       "         0.9901]])"
      ]
     },
     "execution_count": 9,
     "metadata": {},
     "output_type": "execute_result"
    }
   ],
   "source": [
    "inp_1, inp_2 = torch.rand(4, 10), torch.rand(4, 10)\n",
    "# batch_size x input_dim\n",
    "inp_2"
   ]
  },
  {
   "cell_type": "code",
   "execution_count": 10,
   "metadata": {
    "ExecuteTime": {
     "end_time": "2021-07-08T10:41:37.673230Z",
     "start_time": "2021-07-08T10:41:37.661701Z"
    }
   },
   "outputs": [
    {
     "data": {
      "text/plain": [
       "tensor([[0.4973],\n",
       "        [0.4853],\n",
       "        [0.4976],\n",
       "        [0.5010]], grad_fn=<SigmoidBackward>)"
      ]
     },
     "execution_count": 10,
     "metadata": {},
     "output_type": "execute_result"
    }
   ],
   "source": [
    "# вероятность что каждый объект из input1 более релевантен чем в input2\n",
    "preds = ranknet_model(inp_1, inp_2)\n",
    "preds"
   ]
  },
  {
   "cell_type": "code",
   "execution_count": 11,
   "metadata": {
    "ExecuteTime": {
     "end_time": "2021-07-08T10:41:37.852413Z",
     "start_time": "2021-07-08T10:41:37.846954Z"
    }
   },
   "outputs": [],
   "source": [
    "first_linear_layer = ranknet_model.model[0]"
   ]
  },
  {
   "cell_type": "code",
   "execution_count": 12,
   "metadata": {
    "ExecuteTime": {
     "end_time": "2021-07-08T10:41:38.032334Z",
     "start_time": "2021-07-08T10:41:38.027995Z"
    }
   },
   "outputs": [],
   "source": [
    "# градиенты первого слоя нейронной сети неопределены\n",
    "first_linear_layer.weight.grad"
   ]
  },
  {
   "cell_type": "code",
   "execution_count": 13,
   "metadata": {
    "ExecuteTime": {
     "end_time": "2021-07-08T10:41:38.239419Z",
     "start_time": "2021-07-08T10:41:38.216792Z"
    }
   },
   "outputs": [],
   "source": [
    "# функция потерь - бинарная кросс-энтропия\n",
    "criterion = torch.nn.BCELoss()\n",
    "loss = criterion(preds, torch.ones_like(preds)) # допустим что все 1 - i всегда релевантнее j\n",
    "loss.backward() # расчет градиентов"
   ]
  },
  {
   "cell_type": "code",
   "execution_count": 14,
   "metadata": {
    "ExecuteTime": {
     "end_time": "2021-07-08T10:41:38.487904Z",
     "start_time": "2021-07-08T10:41:38.478886Z"
    }
   },
   "outputs": [
    {
     "data": {
      "text/plain": [
       "tensor([[ 0.0000,  0.0000,  0.0000,  0.0000,  0.0000,  0.0000,  0.0000,  0.0000,\n",
       "          0.0000,  0.0000],\n",
       "        [ 0.0000,  0.0000,  0.0000,  0.0000,  0.0000,  0.0000,  0.0000,  0.0000,\n",
       "          0.0000,  0.0000],\n",
       "        [ 0.0074,  0.0017,  0.0019, -0.0008,  0.0056,  0.0014,  0.0079, -0.0023,\n",
       "         -0.0013, -0.0011],\n",
       "        [ 0.0083,  0.0016, -0.0022, -0.0087,  0.0055, -0.0035,  0.0068, -0.0033,\n",
       "         -0.0035, -0.0072],\n",
       "        [ 0.0000,  0.0000,  0.0000,  0.0000,  0.0000,  0.0000,  0.0000,  0.0000,\n",
       "          0.0000,  0.0000],\n",
       "        [ 0.0300,  0.0193,  0.0107, -0.0103,  0.0253, -0.0059,  0.0270,  0.0096,\n",
       "          0.0075, -0.0054],\n",
       "        [-0.0037, -0.0233, -0.0306, -0.0317, -0.0120, -0.0098, -0.0074, -0.0349,\n",
       "         -0.0326, -0.0317],\n",
       "        [-0.0010,  0.0019,  0.0022,  0.0053, -0.0019,  0.0039, -0.0020,  0.0018,\n",
       "          0.0018,  0.0043],\n",
       "        [ 0.0000,  0.0000,  0.0000,  0.0000,  0.0000,  0.0000,  0.0000,  0.0000,\n",
       "          0.0000,  0.0000],\n",
       "        [ 0.0000,  0.0000,  0.0000,  0.0000,  0.0000,  0.0000,  0.0000,  0.0000,\n",
       "          0.0000,  0.0000]])"
      ]
     },
     "execution_count": 14,
     "metadata": {},
     "output_type": "execute_result"
    }
   ],
   "source": [
    "first_linear_layer.weight.grad\n",
    "# следуя градинетам будем обновлять веса нейрноки, чтобы выходы были более похожи на 1"
   ]
  },
  {
   "cell_type": "code",
   "execution_count": 15,
   "metadata": {
    "ExecuteTime": {
     "end_time": "2021-07-08T10:41:38.901727Z",
     "start_time": "2021-07-08T10:41:38.896627Z"
    }
   },
   "outputs": [],
   "source": [
    "ranknet_model.zero_grad()"
   ]
  },
  {
   "cell_type": "code",
   "execution_count": null,
   "metadata": {},
   "outputs": [],
   "source": []
  },
  {
   "cell_type": "markdown",
   "metadata": {},
   "source": [
    "# ListNet"
   ]
  },
  {
   "cell_type": "code",
   "execution_count": 16,
   "metadata": {
    "ExecuteTime": {
     "end_time": "2021-07-08T10:41:40.117182Z",
     "start_time": "2021-07-08T10:41:40.109007Z"
    }
   },
   "outputs": [],
   "source": [
    "from itertools import combinations\n",
    "import numpy as np\n",
    "\n",
    "from lecture2_task import ndcg, num_swapped_pairs"
   ]
  },
  {
   "cell_type": "code",
   "execution_count": 17,
   "metadata": {
    "ExecuteTime": {
     "end_time": "2021-07-08T10:41:40.377310Z",
     "start_time": "2021-07-08T10:41:40.369552Z"
    }
   },
   "outputs": [],
   "source": [
    "class ListNet(torch.nn.Module):\n",
    "    def __init__(self, num_input_features, hidden_dim=10):\n",
    "        super().__init__()\n",
    "        self.hidden_dim = hidden_dim\n",
    "        self.model = torch.nn.Sequential(\n",
    "            torch.nn.Linear(num_input_features, self.hidden_dim),\n",
    "            torch.nn.ReLU(),\n",
    "            torch.nn.Linear(self.hidden_dim, 1),\n",
    "        )\n",
    "\n",
    "\n",
    "    def forward(self, input_1):\n",
    "        logits = self.model(input_1)\n",
    "        return logits\n"
   ]
  },
  {
   "cell_type": "code",
   "execution_count": 18,
   "metadata": {
    "ExecuteTime": {
     "end_time": "2021-07-08T10:41:40.642779Z",
     "start_time": "2021-07-08T10:41:40.635805Z"
    }
   },
   "outputs": [
    {
     "data": {
      "text/latex": [
       "$$CE = -\\sum ^{N}_{j=1} (P_y^i(j) * log(P_z^i(j)))$$\n"
      ],
      "text/plain": [
       "<IPython.core.display.Latex object>"
      ]
     },
     "metadata": {},
     "output_type": "display_data"
    }
   ],
   "source": [
    "%%latex\n",
    "$$CE = -\\sum ^{N}_{j=1} (P_y^i(j) * log(P_z^i(j)))$$"
   ]
  },
  {
   "cell_type": "code",
   "execution_count": 19,
   "metadata": {
    "ExecuteTime": {
     "end_time": "2021-07-08T10:41:40.960057Z",
     "start_time": "2021-07-08T10:41:40.953057Z"
    }
   },
   "outputs": [
    {
     "data": {
      "text/latex": [
       "$$\\text{Softmax}(x_{i}) = \\frac{\\exp(x_i)}{\\sum_j \\exp(x_j)}$$\n"
      ],
      "text/plain": [
       "<IPython.core.display.Latex object>"
      ]
     },
     "metadata": {},
     "output_type": "display_data"
    }
   ],
   "source": [
    "%%latex\n",
    "$$\\text{Softmax}(x_{i}) = \\frac{\\exp(x_i)}{\\sum_j \\exp(x_j)}$$"
   ]
  },
  {
   "cell_type": "code",
   "execution_count": 20,
   "metadata": {
    "ExecuteTime": {
     "end_time": "2021-07-08T10:41:41.162846Z",
     "start_time": "2021-07-08T10:41:41.147944Z"
    }
   },
   "outputs": [],
   "source": [
    "def listnet_ce_loss(y_i, z_i): # y_i - разметка\n",
    "    \"\"\"\n",
    "    y_i: (n_i, 1) GT\n",
    "    z_i: (n_i, 1) preds\n",
    "    \"\"\"\n",
    "\n",
    "    P_y_i = torch.softmax(y_i, dim=0) # dim=0 - нормирование в рамках каждого столбца\n",
    "    P_z_i = torch.softmax(z_i, dim=0)\n",
    "    return -torch.sum(P_y_i * torch.log(P_z_i)) # сырые скоры\n",
    "\n",
    "def listnet_kl_loss(y_i, z_i):\n",
    "    \"\"\"\n",
    "    y_i: (n_i, 1) GT\n",
    "    z_i: (n_i, 1) preds\n",
    "    \"\"\"\n",
    "    P_y_i = torch.softmax(y_i, dim=0)\n",
    "    P_z_i = torch.softmax(z_i, dim=0)\n",
    "    return -torch.sum(P_y_i * torch.log(P_z_i/P_y_i)) # нормирование на скоры из разметки\n",
    "\n",
    "\n",
    "def make_dataset(N_train, N_valid, vector_dim):\n",
    "    fake_weights = torch.randn(vector_dim, 1)\n",
    "\n",
    "    X_train = torch.randn(N_train, vector_dim)\n",
    "    X_valid = torch.randn(N_valid, vector_dim)\n",
    "\n",
    "    ys_train_score = torch.mm(X_train, fake_weights) # matmul - матричное умножение шума на веса\n",
    "    ys_train_score += torch.randn_like(ys_train_score) # добавляем немного шума, чтобы модель не переучивалась\n",
    "\n",
    "    ys_valid_score = torch.mm(X_valid, fake_weights)\n",
    "    ys_valid_score += torch.randn_like(ys_valid_score)\n",
    "\n",
    "#     bins = [-1, 1]  # 3 relevances - разбиваем вектор скоров на 3 бина\n",
    "    bins = [-1, 0, 1, 2]  # 5 relevances\n",
    "    ys_train_rel = torch.Tensor(\n",
    "        np.digitize(ys_train_score.clone().detach().numpy(), bins=bins)\n",
    "    )\n",
    "    ys_valid_rel = torch.Tensor(\n",
    "        np.digitize(ys_valid_score.clone().detach().numpy(), bins=bins)\n",
    "    )\n",
    "\n",
    "    return X_train, X_valid, ys_train_rel, ys_valid_rel"
   ]
  },
  {
   "cell_type": "code",
   "execution_count": null,
   "metadata": {},
   "outputs": [],
   "source": []
  },
  {
   "cell_type": "code",
   "execution_count": 21,
   "metadata": {
    "ExecuteTime": {
     "end_time": "2021-07-08T10:41:41.533757Z",
     "start_time": "2021-07-08T10:41:41.518872Z"
    }
   },
   "outputs": [],
   "source": [
    "N_train = 1000\n",
    "N_valid = 500\n",
    "\n",
    "vector_dim = 100\n",
    "epochs = 2\n",
    "\n",
    "batch_size = 16\n",
    "\n",
    "X_train, X_valid, ys_train, ys_valid = make_dataset(N_train, N_valid, vector_dim)\n",
    "\n",
    "net = ListNet(num_input_features=vector_dim)\n",
    "opt = torch.optim.Adam(net.parameters())\n"
   ]
  },
  {
   "cell_type": "code",
   "execution_count": 22,
   "metadata": {
    "ExecuteTime": {
     "end_time": "2021-07-08T10:41:41.912313Z",
     "start_time": "2021-07-08T10:41:41.903861Z"
    }
   },
   "outputs": [
    {
     "data": {
      "text/plain": [
       "tensor([0., 1., 2., 3., 4.])"
      ]
     },
     "execution_count": 22,
     "metadata": {},
     "output_type": "execute_result"
    }
   ],
   "source": [
    "torch.unique(ys_train)"
   ]
  },
  {
   "cell_type": "code",
   "execution_count": 23,
   "metadata": {
    "ExecuteTime": {
     "end_time": "2021-07-08T10:42:25.973586Z",
     "start_time": "2021-07-08T10:41:42.103275Z"
    }
   },
   "outputs": [
    {
     "name": "stdout",
     "output_type": "stream",
     "text": [
      "epoch: 1.\tNumber of swapped pairs: 40090/124750\tnDCG: 0.8440\n",
      "epoch: 1.\tNumber of swapped pairs: 37423/124750\tnDCG: 0.8625\n",
      "epoch: 1.\tNumber of swapped pairs: 34113/124750\tnDCG: 0.8813\n",
      "epoch: 1.\tNumber of swapped pairs: 31067/124750\tnDCG: 0.8976\n",
      "epoch: 1.\tNumber of swapped pairs: 28197/124750\tnDCG: 0.9128\n",
      "epoch: 1.\tNumber of swapped pairs: 25247/124750\tnDCG: 0.9255\n",
      "epoch: 1.\tNumber of swapped pairs: 22497/124750\tnDCG: 0.9368\n",
      "epoch: 2.\tNumber of swapped pairs: 22011/124750\tnDCG: 0.9389\n",
      "epoch: 2.\tNumber of swapped pairs: 19773/124750\tnDCG: 0.9477\n",
      "epoch: 2.\tNumber of swapped pairs: 17878/124750\tnDCG: 0.9554\n",
      "epoch: 2.\tNumber of swapped pairs: 16137/124750\tnDCG: 0.9613\n",
      "epoch: 2.\tNumber of swapped pairs: 14619/124750\tnDCG: 0.9669\n",
      "epoch: 2.\tNumber of swapped pairs: 13341/124750\tnDCG: 0.9709\n",
      "epoch: 2.\tNumber of swapped pairs: 12165/124750\tnDCG: 0.9740\n"
     ]
    }
   ],
   "source": [
    "for epoch in range(epochs):\n",
    "    idx = torch.randperm(N_train) # шафлим чтобы 1 батч 1й эпохи отличался от 1 бача во 2й\n",
    "\n",
    "    X_train = X_train[idx]\n",
    "    ys_train = ys_train[idx]\n",
    "\n",
    "    cur_batch = 0\n",
    "    for it in range(N_train // batch_size):\n",
    "        batch_X = X_train[cur_batch: cur_batch + batch_size]\n",
    "        batch_ys = ys_train[cur_batch: cur_batch + batch_size]\n",
    "        cur_batch += batch_size\n",
    "\n",
    "        opt.zero_grad() # на всякий случай зануляем градиенты перед обучением\n",
    "        if len(batch_X) > 0:\n",
    "            batch_pred = net(batch_X)\n",
    "            batch_loss = listnet_kl_loss(batch_ys, batch_pred)\n",
    "#             batch_loss = listnet_ce_loss(batch_ys, batch_pred)\n",
    "            batch_loss.backward(retain_graph=True) # считаем градиеты\n",
    "            opt.step() # делаем шаг градиентного спуска\n",
    "\n",
    "        if it % 10 == 0:\n",
    "            with torch.no_grad():\n",
    "                valid_pred = net(X_valid)\n",
    "                valid_swapped_pairs = num_swapped_pairs(ys_valid, valid_pred)\n",
    "                ndcg_score = ndcg(ys_valid, valid_pred)\n",
    "            print(f\"epoch: {epoch + 1}.\\tNumber of swapped pairs: \" \n",
    "                  f\"{valid_swapped_pairs}/{N_valid * (N_valid - 1) // 2}\\t\"\n",
    "                  f\"nDCG: {ndcg_score:.4f}\")"
   ]
  }
 ],
 "metadata": {
  "hide_input": false,
  "kernelspec": {
   "display_name": "Python 3",
   "language": "python",
   "name": "python3"
  },
  "language_info": {
   "codemirror_mode": {
    "name": "ipython",
    "version": 3
   },
   "file_extension": ".py",
   "mimetype": "text/x-python",
   "name": "python",
   "nbconvert_exporter": "python",
   "pygments_lexer": "ipython3",
   "version": "3.6.9"
  },
  "toc": {
   "base_numbering": 1,
   "nav_menu": {},
   "number_sections": true,
   "sideBar": true,
   "skip_h1_title": false,
   "title_cell": "Table of Contents",
   "title_sidebar": "Contents",
   "toc_cell": false,
   "toc_position": {},
   "toc_section_display": true,
   "toc_window_display": false
  }
 },
 "nbformat": 4,
 "nbformat_minor": 4
}
